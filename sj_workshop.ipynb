{
 "cells": [
  {
   "cell_type": "markdown",
   "metadata": {},
   "source": [
    "## Speed Up Your Data Analysis!"
   ]
  },
  {
   "cell_type": "markdown",
   "metadata": {},
   "source": [
    "Today we are going to talk about three Python libraries:\n",
    "- DTale\n",
    "- Modin\n",
    "- Vaex"
   ]
  },
  {
   "cell_type": "markdown",
   "metadata": {},
   "source": [
    "**Dtale for fast Exploratory Data Analysis**"
   ]
  },
  {
   "cell_type": "markdown",
   "metadata": {},
   "source": [
    "**Installation**"
   ]
  },
  {
   "cell_type": "markdown",
   "metadata": {},
   "source": [
    "```pip install dtale```<br>\n",
    "```conda install -c conda-forge dtale```\n"
   ]
  },
  {
   "cell_type": "markdown",
   "metadata": {},
   "source": [
    "**Import DTale**"
   ]
  },
  {
   "cell_type": "code",
   "execution_count": 1,
   "metadata": {},
   "outputs": [],
   "source": [
    "import dtale\n",
    "import pandas as pd"
   ]
  },
  {
   "cell_type": "markdown",
   "metadata": {},
   "source": [
    "**Let's Load a dataset**"
   ]
  },
  {
   "cell_type": "code",
   "execution_count": 2,
   "metadata": {},
   "outputs": [],
   "source": [
    "df = pd.read_csv(\"https://raw.githubusercontent.com/sharmaroshan/FIFA-2019-Analysis/master/Footballer.csv\",index_col = False)"
   ]
  },
  {
   "cell_type": "code",
   "execution_count": 3,
   "metadata": {},
   "outputs": [
    {
     "data": {
      "text/plain": [
       "(18207, 89)"
      ]
     },
     "execution_count": 3,
     "metadata": {},
     "output_type": "execute_result"
    }
   ],
   "source": [
    "df.shape"
   ]
  },
  {
   "cell_type": "code",
   "execution_count": 4,
   "metadata": {},
   "outputs": [
    {
     "name": "stderr",
     "output_type": "stream",
     "text": [
      "2021-01-22 18:13:28,264 - INFO     - NumExpr defaulting to 8 threads.\n"
     ]
    },
    {
     "data": {
      "text/html": [
       "\n",
       "        <iframe\n",
       "            width=\"100%\"\n",
       "            height=\"475\"\n",
       "            src=\"http://LAPTOP-39FGEPI8:40000/dtale/iframe/1\"\n",
       "            frameborder=\"0\"\n",
       "            allowfullscreen\n",
       "        ></iframe>\n",
       "        "
      ],
      "text/plain": [
       "<IPython.lib.display.IFrame at 0x1802b992be0>"
      ]
     },
     "metadata": {},
     "output_type": "display_data"
    },
    {
     "data": {
      "text/plain": []
     },
     "execution_count": 4,
     "metadata": {},
     "output_type": "execute_result"
    }
   ],
   "source": [
    "dtale.show(df)"
   ]
  },
  {
   "cell_type": "markdown",
   "metadata": {},
   "source": [
    "**Disadvantages**\n",
    "* Slow for Large Datasets\n",
    "* A new library with some bugs"
   ]
  },
  {
   "cell_type": "markdown",
   "metadata": {},
   "source": [
    "### Scale Pandas workflow with a single line of code"
   ]
  },
  {
   "cell_type": "markdown",
   "metadata": {},
   "source": [
    "Modin can load medium sized datasets(upto 500,000 records) very fast.\n",
    "<br>\n",
    "<br>\n",
    "Unlike Pandas which uses one core of the processor to process datasets, Modin distributes the processing to all the available cores in the CPU.\n",
    "<br>\n",
    "Modin provides seamless integration and compatibility with existing pandas code. Even using the DataFrame constructor is identical.\n",
    "<br>\n",
    "Modin uses Ray or Dask(parallel processing libraries) to provide an effortless way to speed up your pandas notebooks, scripts, and libraries."
   ]
  },
  {
   "cell_type": "markdown",
   "metadata": {},
   "source": [
    "### Installation"
   ]
  },
  {
   "cell_type": "markdown",
   "metadata": {},
   "source": [
    "pip install modin[ray]  - Install Modin dependencies and Ray to run on Ray<br>\n",
    "pip install modin[dask]  - Install Modin dependencies and Dask to run on Dask<br>\n",
    "pip install modin[all]  - Install all of the above<br>"
   ]
  },
  {
   "cell_type": "markdown",
   "metadata": {},
   "source": [
    "### Claim By Modin!\n",
    "Modin is a DataFrame for datasets from 1MB to 1TB+"
   ]
  },
  {
   "cell_type": "markdown",
   "metadata": {},
   "source": [
    "**Loading a dataset in Pandas v/s Modin**"
   ]
  },
  {
   "cell_type": "code",
   "execution_count": 6,
   "metadata": {},
   "outputs": [],
   "source": [
    "import pandas as pd"
   ]
  },
  {
   "cell_type": "markdown",
   "metadata": {},
   "source": [
    "Link to the dataset : https://www.kaggle.com/skihikingkevin/csgo-matchmaking-damage?select=esea_master_dmg_demos.part1.csv"
   ]
  },
  {
   "cell_type": "code",
   "execution_count": 7,
   "metadata": {},
   "outputs": [
    {
     "data": {
      "text/html": [
       "<div>\n",
       "<style scoped>\n",
       "    .dataframe tbody tr th:only-of-type {\n",
       "        vertical-align: middle;\n",
       "    }\n",
       "\n",
       "    .dataframe tbody tr th {\n",
       "        vertical-align: top;\n",
       "    }\n",
       "\n",
       "    .dataframe thead th {\n",
       "        text-align: right;\n",
       "    }\n",
       "</style>\n",
       "<table border=\"1\" class=\"dataframe\">\n",
       "  <thead>\n",
       "    <tr style=\"text-align: right;\">\n",
       "      <th></th>\n",
       "      <th>file</th>\n",
       "      <th>round</th>\n",
       "      <th>tick</th>\n",
       "      <th>seconds</th>\n",
       "      <th>att_team</th>\n",
       "      <th>vic_team</th>\n",
       "      <th>att_side</th>\n",
       "      <th>vic_side</th>\n",
       "      <th>hp_dmg</th>\n",
       "      <th>arm_dmg</th>\n",
       "      <th>...</th>\n",
       "      <th>wp</th>\n",
       "      <th>wp_type</th>\n",
       "      <th>att_id</th>\n",
       "      <th>att_rank</th>\n",
       "      <th>vic_id</th>\n",
       "      <th>vic_rank</th>\n",
       "      <th>att_pos_x</th>\n",
       "      <th>att_pos_y</th>\n",
       "      <th>vic_pos_x</th>\n",
       "      <th>vic_pos_y</th>\n",
       "    </tr>\n",
       "  </thead>\n",
       "  <tbody>\n",
       "    <tr>\n",
       "      <th>0</th>\n",
       "      <td>esea_match_13818366.dem</td>\n",
       "      <td>1</td>\n",
       "      <td>21257</td>\n",
       "      <td>165.8779</td>\n",
       "      <td>Team 2</td>\n",
       "      <td>Team 1</td>\n",
       "      <td>Terrorist</td>\n",
       "      <td>CounterTerrorist</td>\n",
       "      <td>20</td>\n",
       "      <td>0</td>\n",
       "      <td>...</td>\n",
       "      <td>Glock</td>\n",
       "      <td>Pistol</td>\n",
       "      <td>76561198242409332</td>\n",
       "      <td>0</td>\n",
       "      <td>76561198323654039</td>\n",
       "      <td>0</td>\n",
       "      <td>695.9623</td>\n",
       "      <td>1459.5790</td>\n",
       "      <td>-299.9824</td>\n",
       "      <td>2220.1480</td>\n",
       "    </tr>\n",
       "    <tr>\n",
       "      <th>1</th>\n",
       "      <td>esea_match_13818366.dem</td>\n",
       "      <td>1</td>\n",
       "      <td>21653</td>\n",
       "      <td>168.9752</td>\n",
       "      <td>Team 1</td>\n",
       "      <td>Team 2</td>\n",
       "      <td>CounterTerrorist</td>\n",
       "      <td>Terrorist</td>\n",
       "      <td>100</td>\n",
       "      <td>0</td>\n",
       "      <td>...</td>\n",
       "      <td>USP</td>\n",
       "      <td>Pistol</td>\n",
       "      <td>76561198013283167</td>\n",
       "      <td>0</td>\n",
       "      <td>76561198355844440</td>\n",
       "      <td>0</td>\n",
       "      <td>-236.3433</td>\n",
       "      <td>923.7209</td>\n",
       "      <td>271.5201</td>\n",
       "      <td>2097.4790</td>\n",
       "    </tr>\n",
       "    <tr>\n",
       "      <th>2</th>\n",
       "      <td>esea_match_13818366.dem</td>\n",
       "      <td>1</td>\n",
       "      <td>21717</td>\n",
       "      <td>169.4758</td>\n",
       "      <td>Team 1</td>\n",
       "      <td>Team 2</td>\n",
       "      <td>CounterTerrorist</td>\n",
       "      <td>Terrorist</td>\n",
       "      <td>100</td>\n",
       "      <td>0</td>\n",
       "      <td>...</td>\n",
       "      <td>USP</td>\n",
       "      <td>Pistol</td>\n",
       "      <td>76561198323654039</td>\n",
       "      <td>0</td>\n",
       "      <td>76561198305399476</td>\n",
       "      <td>0</td>\n",
       "      <td>-422.4744</td>\n",
       "      <td>2051.0920</td>\n",
       "      <td>909.0534</td>\n",
       "      <td>1543.7200</td>\n",
       "    </tr>\n",
       "    <tr>\n",
       "      <th>3</th>\n",
       "      <td>esea_match_13818366.dem</td>\n",
       "      <td>1</td>\n",
       "      <td>21937</td>\n",
       "      <td>171.1965</td>\n",
       "      <td>Team 1</td>\n",
       "      <td>Team 2</td>\n",
       "      <td>CounterTerrorist</td>\n",
       "      <td>Terrorist</td>\n",
       "      <td>14</td>\n",
       "      <td>6</td>\n",
       "      <td>...</td>\n",
       "      <td>USP</td>\n",
       "      <td>Pistol</td>\n",
       "      <td>76561198323654039</td>\n",
       "      <td>0</td>\n",
       "      <td>76561197962070685</td>\n",
       "      <td>0</td>\n",
       "      <td>-263.6333</td>\n",
       "      <td>2248.5440</td>\n",
       "      <td>704.7518</td>\n",
       "      <td>1579.3470</td>\n",
       "    </tr>\n",
       "    <tr>\n",
       "      <th>4</th>\n",
       "      <td>esea_match_13818366.dem</td>\n",
       "      <td>1</td>\n",
       "      <td>22229</td>\n",
       "      <td>173.4804</td>\n",
       "      <td>Team 1</td>\n",
       "      <td>Team 2</td>\n",
       "      <td>CounterTerrorist</td>\n",
       "      <td>Terrorist</td>\n",
       "      <td>100</td>\n",
       "      <td>0</td>\n",
       "      <td>...</td>\n",
       "      <td>USP</td>\n",
       "      <td>Pistol</td>\n",
       "      <td>76561198853893462</td>\n",
       "      <td>0</td>\n",
       "      <td>76561198397252030</td>\n",
       "      <td>0</td>\n",
       "      <td>-558.0109</td>\n",
       "      <td>-874.1711</td>\n",
       "      <td>254.4920</td>\n",
       "      <td>-691.1022</td>\n",
       "    </tr>\n",
       "  </tbody>\n",
       "</table>\n",
       "<p>5 rows × 23 columns</p>\n",
       "</div>"
      ],
      "text/plain": [
       "                      file  round   tick   seconds att_team vic_team  \\\n",
       "0  esea_match_13818366.dem      1  21257  165.8779   Team 2   Team 1   \n",
       "1  esea_match_13818366.dem      1  21653  168.9752   Team 1   Team 2   \n",
       "2  esea_match_13818366.dem      1  21717  169.4758   Team 1   Team 2   \n",
       "3  esea_match_13818366.dem      1  21937  171.1965   Team 1   Team 2   \n",
       "4  esea_match_13818366.dem      1  22229  173.4804   Team 1   Team 2   \n",
       "\n",
       "           att_side          vic_side  hp_dmg  arm_dmg  ...     wp wp_type  \\\n",
       "0         Terrorist  CounterTerrorist      20        0  ...  Glock  Pistol   \n",
       "1  CounterTerrorist         Terrorist     100        0  ...    USP  Pistol   \n",
       "2  CounterTerrorist         Terrorist     100        0  ...    USP  Pistol   \n",
       "3  CounterTerrorist         Terrorist      14        6  ...    USP  Pistol   \n",
       "4  CounterTerrorist         Terrorist     100        0  ...    USP  Pistol   \n",
       "\n",
       "              att_id att_rank             vic_id  vic_rank  att_pos_x  \\\n",
       "0  76561198242409332        0  76561198323654039         0   695.9623   \n",
       "1  76561198013283167        0  76561198355844440         0  -236.3433   \n",
       "2  76561198323654039        0  76561198305399476         0  -422.4744   \n",
       "3  76561198323654039        0  76561197962070685         0  -263.6333   \n",
       "4  76561198853893462        0  76561198397252030         0  -558.0109   \n",
       "\n",
       "   att_pos_y  vic_pos_x  vic_pos_y  \n",
       "0  1459.5790  -299.9824  2220.1480  \n",
       "1   923.7209   271.5201  2097.4790  \n",
       "2  2051.0920   909.0534  1543.7200  \n",
       "3  2248.5440   704.7518  1579.3470  \n",
       "4  -874.1711   254.4920  -691.1022  \n",
       "\n",
       "[5 rows x 23 columns]"
      ]
     },
     "execution_count": 7,
     "metadata": {},
     "output_type": "execute_result"
    }
   ],
   "source": [
    "df = pd.read_csv('demo.csv')\n",
    "df.head()"
   ]
  },
  {
   "cell_type": "code",
   "execution_count": 8,
   "metadata": {},
   "outputs": [
    {
     "name": "stdout",
     "output_type": "stream",
     "text": [
      "Wall time: 28.7 s\n"
     ]
    }
   ],
   "source": [
    "%%time\n",
    "df1 = pd.read_csv('demo.csv')"
   ]
  },
  {
   "cell_type": "code",
   "execution_count": 10,
   "metadata": {},
   "outputs": [
    {
     "data": {
      "text/plain": [
       "(4546085, 23)"
      ]
     },
     "execution_count": 10,
     "metadata": {},
     "output_type": "execute_result"
    }
   ],
   "source": [
    "df1.shape"
   ]
  },
  {
   "cell_type": "markdown",
   "metadata": {},
   "source": [
    "**Magic of Modin!**"
   ]
  },
  {
   "cell_type": "code",
   "execution_count": 12,
   "metadata": {},
   "outputs": [],
   "source": [
    "import modin.pandas as pd"
   ]
  },
  {
   "cell_type": "code",
   "execution_count": 13,
   "metadata": {},
   "outputs": [
    {
     "name": "stdout",
     "output_type": "stream",
     "text": [
      "Wall time: 6.91 s\n"
     ]
    }
   ],
   "source": [
    "%%time\n",
    "df1 = pd.read_csv(\"demo.csv\",index_col=False)"
   ]
  },
  {
   "cell_type": "markdown",
   "metadata": {},
   "source": [
    "**Another Example with a smaller dataset**"
   ]
  },
  {
   "cell_type": "code",
   "execution_count": 26,
   "metadata": {},
   "outputs": [],
   "source": [
    "import numpy as np\n",
    "import modin.pandas as pd"
   ]
  },
  {
   "cell_type": "code",
   "execution_count": 27,
   "metadata": {},
   "outputs": [],
   "source": [
    "frame_data = np.random.randint(0, 100, size=(2**10, 2**8))"
   ]
  },
  {
   "cell_type": "code",
   "execution_count": 28,
   "metadata": {},
   "outputs": [
    {
     "name": "stdout",
     "output_type": "stream",
     "text": [
      "Wall time: 152 ms\n"
     ]
    },
    {
     "name": "stderr",
     "output_type": "stream",
     "text": [
      "UserWarning: Distributing <class 'numpy.ndarray'> object. This may take some time.\n"
     ]
    }
   ],
   "source": [
    "%%time\n",
    "df = pd.DataFrame(frame_data)"
   ]
  },
  {
   "cell_type": "code",
   "execution_count": 29,
   "metadata": {},
   "outputs": [
    {
     "data": {
      "text/plain": [
       "262144"
      ]
     },
     "execution_count": 29,
     "metadata": {},
     "output_type": "execute_result"
    }
   ],
   "source": [
    "df.size"
   ]
  },
  {
   "cell_type": "markdown",
   "metadata": {},
   "source": [
    "**Vaex Library - Faster than Modin and Used for Very Large Datasets(in measures of Tb and millions of records!)**"
   ]
  },
  {
   "cell_type": "markdown",
   "metadata": {},
   "source": [
    "Vaex is a high performance Python library for lazy Out-of-Core DataFrames (similar to Pandas), to visualize and explore big tabular datasets"
   ]
  },
  {
   "cell_type": "markdown",
   "metadata": {},
   "source": [
    "**Installation**"
   ]
  },
  {
   "cell_type": "markdown",
   "metadata": {},
   "source": [
    "```git clone https://github.com/vaexio/vaex.git``` <br>\n",
    "```python setup.py install```"
   ]
  },
  {
   "cell_type": "markdown",
   "metadata": {},
   "source": [
    "Since Vaex takes time to setup....we will proceed with a pre executed notebook"
   ]
  },
  {
   "cell_type": "markdown",
   "metadata": {},
   "source": [
    "**Shoutout to Chanin Nantasenamat(Data Professor on YT)** for the notebook!\n",
    "https://github.com/dataprofessor/python/blob/main/vaex.ipynb<br>\n",
    "http://youtube.com/dataprofessor"
   ]
  },
  {
   "cell_type": "markdown",
   "metadata": {},
   "source": [
    "### Additional Resources"
   ]
  },
  {
   "cell_type": "markdown",
   "metadata": {},
   "source": [
    "*Dtale* : https://pypi.org/project/dtale/<br>\n",
    "*Modin Pandas* : https://modin.readthedocs.io/en/latest/<br>\n",
    "*Vaex* : https://vaex.io/docs/<br>\n",
    "*Github Repo* : "
   ]
  },
  {
   "cell_type": "code",
   "execution_count": null,
   "metadata": {},
   "outputs": [],
   "source": []
  }
 ],
 "metadata": {
  "kernelspec": {
   "display_name": "Python 3",
   "language": "python",
   "name": "python3"
  },
  "language_info": {
   "codemirror_mode": {
    "name": "ipython",
    "version": 3
   },
   "file_extension": ".py",
   "mimetype": "text/x-python",
   "name": "python",
   "nbconvert_exporter": "python",
   "pygments_lexer": "ipython3",
   "version": "3.8.3"
  }
 },
 "nbformat": 4,
 "nbformat_minor": 4
}
